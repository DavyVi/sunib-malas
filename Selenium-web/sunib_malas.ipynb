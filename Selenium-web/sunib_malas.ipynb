{
 "cells": [
  {
   "cell_type": "code",
   "execution_count": null,
   "metadata": {},
   "outputs": [],
   "source": [
    "from selenium import webdriver\n",
    "from selenium.webdriver.support.ui import WebDriverWait\n",
    "from selenium.webdriver.support import expected_conditions as EC\n",
    "from selenium.webdriver.common.by import By\n",
    "\n",
    "import requests\n",
    "import traceback\n",
    "import pandas as pd"
   ]
  },
  {
   "cell_type": "code",
   "execution_count": null,
   "metadata": {},
   "outputs": [],
   "source": [
    "email = \"davy.chow@binus.ac.id\"\n",
    "password = \"Help!!!1\""
   ]
  },
  {
   "cell_type": "code",
   "execution_count": null,
   "metadata": {},
   "outputs": [],
   "source": [
    "driver = webdriver.Chrome()\n",
    "driver.get(\"https://enrichment.apps.binus.ac.id/Login\") "
   ]
  },
  {
   "cell_type": "code",
   "execution_count": null,
   "metadata": {},
   "outputs": [],
   "source": [
    "session = requests.Session()"
   ]
  },
  {
   "cell_type": "code",
   "execution_count": null,
   "metadata": {},
   "outputs": [],
   "source": [
    "login_button = WebDriverWait(driver, 3).until(\n",
    "                EC.presence_of_element_located((By.XPATH, '//*[@id=\"header\"]/div/section[2]/nav/div/ul[2]/a'))\n",
    "                )"
   ]
  },
  {
   "cell_type": "code",
   "execution_count": null,
   "metadata": {},
   "outputs": [],
   "source": [
    "login_button.click()"
   ]
  },
  {
   "cell_type": "code",
   "execution_count": null,
   "metadata": {},
   "outputs": [],
   "source": [
    "microsoft_sign_in_button = WebDriverWait(driver, 3).until(\n",
    "                EC.presence_of_element_located((By.XPATH, '//*[@id=\"btnLogin\"]'))\n",
    "                )"
   ]
  },
  {
   "cell_type": "code",
   "execution_count": null,
   "metadata": {},
   "outputs": [],
   "source": [
    "microsoft_sign_in_button.click()"
   ]
  },
  {
   "cell_type": "code",
   "execution_count": null,
   "metadata": {},
   "outputs": [],
   "source": [
    "# login with microsoft account\n",
    "driver.find_element(By.CSS_SELECTOR, 'input[name=\"loginfmt\"]').send_keys(email)"
   ]
  },
  {
   "cell_type": "code",
   "execution_count": null,
   "metadata": {},
   "outputs": [],
   "source": [
    "next_button = WebDriverWait(driver, 3).until(\n",
    "                EC.presence_of_element_located((By.XPATH, '//*[@id=\"idSIButton9\"]'))\n",
    "                )\n",
    "next_button.click()"
   ]
  },
  {
   "cell_type": "code",
   "execution_count": null,
   "metadata": {},
   "outputs": [],
   "source": [
    "driver.find_element(By.CSS_SELECTOR, 'input[name=\"passwd\"]').send_keys(password)"
   ]
  },
  {
   "cell_type": "code",
   "execution_count": null,
   "metadata": {},
   "outputs": [],
   "source": [
    "sign_in_button = WebDriverWait(driver, 3).until(\n",
    "                EC.presence_of_element_located((By.XPATH, '//*[@id=\"idSIButton9\"]'))\n",
    "                )\n",
    "sign_in_button.click()"
   ]
  },
  {
   "cell_type": "code",
   "execution_count": null,
   "metadata": {},
   "outputs": [],
   "source": [
    "yes_button = WebDriverWait(driver, 3).until(\n",
    "                EC.presence_of_element_located((By.XPATH, '//*[@id=\"idSIButton9\"]'))\n",
    "                )\n",
    "yes_button.click()"
   ]
  },
  {
   "cell_type": "code",
   "execution_count": null,
   "metadata": {},
   "outputs": [],
   "source": [
    "activity_enrichment_app = WebDriverWait(driver, 3).until(\n",
    "                EC.presence_of_element_located((By.XPATH, '//*[@id=\"StudentTermDashboard\"]/span[1]/a[2]'))\n",
    "                )\n",
    "activity_enrichment_app.click()"
   ]
  },
  {
   "cell_type": "code",
   "execution_count": null,
   "metadata": {},
   "outputs": [],
   "source": [
    "select_account = WebDriverWait(driver, 3).until(\n",
    "                EC.presence_of_element_located((By.XPATH, '//*[@id=\"tilesHolder\"]/div[1]/div/div[1]'))\n",
    "                )\n",
    "select_account.click()"
   ]
  },
  {
   "cell_type": "code",
   "execution_count": null,
   "metadata": {},
   "outputs": [],
   "source": [
    "logbook_tab = WebDriverWait(driver, 3).until(\n",
    "                EC.presence_of_element_located((By.XPATH, '//*[@id=\"btnLogBook\"]'))\n",
    "                )\n",
    "logbook_tab.click()"
   ]
  },
  {
   "cell_type": "code",
   "execution_count": null,
   "metadata": {},
   "outputs": [],
   "source": [
    "# <a href=\"#\" onclick=\"tabClick('6a1b055d-54c1-478e-8622-f486effd7fc0')\">May <span style=\"color: #d12f2e\">●</span></a>\n",
    "# Add button to correct logbook month\n",
    "logbook_month = WebDriverWait(driver, 3).until(\n",
    "                EC.presence_of_element_located((By.XPATH, '//*[@id=\"monthTab\"]/li[3]/a'))\n",
    "                )\n",
    "logbook_month.click()"
   ]
  },
  {
   "cell_type": "code",
   "execution_count": null,
   "metadata": {},
   "outputs": [],
   "source": [
    "base_url = \"https://activity-enrichment.apps.binus.ac.id/LogBook\""
   ]
  },
  {
   "cell_type": "code",
   "execution_count": null,
   "metadata": {},
   "outputs": [],
   "source": [
    "response = session.get(\"https://activity-enrichment.apps.binus.ac.id/LogBook/GetMonths\")\n",
    "response_text = response.json()"
   ]
  },
  {
   "cell_type": "code",
   "execution_count": null,
   "metadata": {},
   "outputs": [],
   "source": [
    "response.status_code"
   ]
  },
  {
   "cell_type": "code",
   "execution_count": null,
   "metadata": {},
   "outputs": [],
   "source": [
    "url = \"https://activity-enrichment.apps.binus.ac.id/LogBook/GetMonths\"\n",
    "response = requests.get(url)\n",
    "print(response.text)\n",
    "# if response.status_code == 200:\n",
    "#     data = response.json()\n",
    "#     print(data)"
   ]
  },
  {
   "cell_type": "code",
   "execution_count": null,
   "metadata": {},
   "outputs": [],
   "source": [
    "json_response = response.json()\n",
    "print(\"JSON Response:\", json_response)"
   ]
  },
  {
   "cell_type": "code",
   "execution_count": null,
   "metadata": {},
   "outputs": [],
   "source": [
    "def get_months():\n",
    "\ttry:\n",
    "\t\tresponse = session.get(base_url + \"/GetMonths\")\n",
    "\t\traw_month_mapping = response.json()\n",
    "\n",
    "\t\tif response.status_code != 200:\n",
    "\t\t\traise Exception(f\"{response.text}\")\n",
    "\n",
    "\t\tfor month in raw_month_mapping['data']:\n",
    "\t\t\tlogbook_id_mapping.update({\n",
    "\t\t\t\tf\"{month['monthInt']:02d}\" : f\"{month['logBookHeaderID']}\"\n",
    "\t\t\t})\n",
    "\texcept Exception:\n",
    "\t\texception_message = traceback.format_exc()\n",
    "\t\tprint(f\"Failed to get logbook ID. Reason: {exception_message}\")"
   ]
  },
  {
   "cell_type": "code",
   "execution_count": null,
   "metadata": {},
   "outputs": [],
   "source": [
    "get_months()"
   ]
  }
 ],
 "metadata": {
  "kernelspec": {
   "display_name": "Selenium",
   "language": "python",
   "name": "python3"
  },
  "language_info": {
   "codemirror_mode": {
    "name": "ipython",
    "version": 3
   },
   "file_extension": ".py",
   "mimetype": "text/x-python",
   "name": "python",
   "nbconvert_exporter": "python",
   "pygments_lexer": "ipython3",
   "version": "3.11.0"
  }
 },
 "nbformat": 4,
 "nbformat_minor": 2
}
